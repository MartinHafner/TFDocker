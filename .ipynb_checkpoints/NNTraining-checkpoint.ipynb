{
 "cells": [
  {
   "cell_type": "markdown",
   "metadata": {},
   "source": [
    "# LSTM Training"
   ]
  },
  {
   "cell_type": "code",
   "execution_count": 323,
   "metadata": {
    "collapsed": true
   },
   "outputs": [],
   "source": [
    "import tensorflow as tf\n",
    "from tensorflow.contrib import rnn"
   ]
  },
  {
   "cell_type": "code",
   "execution_count": 324,
   "metadata": {
    "collapsed": true
   },
   "outputs": [],
   "source": [
    "import pandas as pd\n",
    "import numpy as np\n",
    "from numpy import *\n",
    "import itertools\n",
    "import os\n",
    "import random"
   ]
  },
  {
   "cell_type": "code",
   "execution_count": 363,
   "metadata": {
    "collapsed": true
   },
   "outputs": [],
   "source": [
    "# read finished Data; case training\n",
    "def readData(src, noConfFlag=True):\n",
    "    dataseries = []\n",
    "    for i in itertools.count():\n",
    "        try:\n",
    "            #print(i)\n",
    "            dataseries.append(np.array(pd.read_json(src+ '/'+os.path.basename(src[:-4])+'_'+str(i).zfill(12)+'_keypoints.json').iloc[0,0]['pose_keypoints_2d']))\n",
    "            if noConfFlag:\n",
    "                dataseries[-1] = np.append(dataseries[-1][:2],np.delete(dataseries[-1][2:], slice(None, None, 3)))\n",
    "        except ValueError:\n",
    "            break\n",
    "        except IndexError:\n",
    "            if noConfFlag:\n",
    "                dataseries.append(np.zeros(25*2))\n",
    "            else:\n",
    "                dataseries.append(np.zeros(25*3))\n",
    "    return dataseries,i"
   ]
  },
  {
   "cell_type": "code",
   "execution_count": 364,
   "metadata": {},
   "outputs": [
    {
     "name": "stdout",
     "output_type": "stream",
     "text": [
      "data/output/rennen/VID_20181212_160445.mp4\n",
      ".................data/output/rennen/VID_20181212_160500.mp4\n",
      ".data/output/rennen/VID_20181212_160510.mp4\n",
      "....data/output/rennen/VID_20181212_160301.mp4\n",
      "........................data/output/rennen/VID_20181212_160311.mp4\n",
      "......data/output/rennen/VID_20181212_155945.mp4\n",
      "...................data/output/rennen/VID_20181212_160734.mp4\n",
      ".........data/output/rennen/VID_20181212_160440.mp4\n",
      ".data/output/rennen/VID_20181212_155930.mp4\n",
      "..data/output/gehen/VID_20181212_160300.mp4\n",
      "...........data/output/rennen/VID_20181212_160337.mp4\n",
      "....data/output/rennen/VID_20181212_160845.mp4\n",
      ".......data/output/rennen/VID_20181212_155952.mp4\n",
      "...............data/output/rennen/VID_20181212_160911.mp4\n",
      "...data/output/rennen/VID_20181212_160316.mp4\n",
      ".....data/output/rennen/VID_20181212_160959.mp4\n",
      ".............data/output/rennen/VID_20181212_155701.mp4\n",
      "...data/output/rennen/VID_20181212_160938.mp4\n",
      "......data/output/rennen/VID_20181212_160003.mp4\n",
      "....................data/output/rennen/VID_20181212_160948.mp4\n",
      "..............data/output/rennen/VID_20181212_160242.mp4\n",
      "...........data/output/rennen/VID_20181212_155938.mp4\n",
      "..data loaded.\n",
      "min Length:  60\n"
     ]
    }
   ],
   "source": [
    "labelNames=['rennen','gehen']\n",
    "dataPaths=['data/output/rennen/','data/output/gehen/']\n",
    "samplePaths=[]\n",
    "data=[]\n",
    "labels=[]\n",
    "#collect paths to data\n",
    "dirs0 = os.listdir(dataPaths[0])\n",
    "for p in dirs0:\n",
    "    samplePaths.append(dataPaths[0]+p+'0')\n",
    "dirs1 = os.listdir(dataPaths[1])\n",
    "for p in dirs1:\n",
    "    samplePaths.append(dataPaths[1]+p+'1')\n",
    "\n",
    "#shuffel data\n",
    "random.shuffle(samplePaths)\n",
    "#print(samplePaths)\n",
    "minLength = 60\n",
    "for smp in samplePaths:\n",
    "    l = smp[-1:]\n",
    "    smp = smp[:-1]\n",
    "    td, i = readData(smp)\n",
    "    if i<minLength:\n",
    "        #minLength = i\n",
    "        print(smp)\n",
    "    else:\n",
    "        data.append(td[10:60])\n",
    "        if l == '0':\n",
    "            labels.append(np.array([1,0]))\n",
    "        elif l == '1':\n",
    "            labels.append(np.array([0,1]))\n",
    "        else:\n",
    "            #labels.append(np.array([0,0]))\n",
    "            print(\"can't load: \",smp)\n",
    "    print('.', end=\"\")\n",
    "        \n",
    "print(\"data loaded.\")\n",
    "print(\"min Length: \", minLength)"
   ]
  },
  {
   "cell_type": "code",
   "execution_count": 365,
   "metadata": {
    "collapsed": true
   },
   "outputs": [],
   "source": [
    "#define constants\n",
    "\n",
    "time_steps=50\n",
    "#hidden LSTM units\n",
    "num_units=128\n",
    "# 25*3=75; 25*2=50\n",
    "n_input=50\n",
    "#learning rate for adam\n",
    "learning_rate=0.1\n",
    "\n",
    "n_classes=2\n",
    "#size of batch\n",
    "batch_size=7"
   ]
  },
  {
   "cell_type": "code",
   "execution_count": 366,
   "metadata": {
    "collapsed": true
   },
   "outputs": [],
   "source": [
    "#shape for LSTM\n",
    "unscaledData = np.concatenate(data, axis=0).reshape((-1,time_steps*50))\n",
    "l = np.concatenate(labels, axis=0).reshape((-1,2))"
   ]
  },
  {
   "cell_type": "code",
   "execution_count": 367,
   "metadata": {
    "scrolled": true
   },
   "outputs": [
    {
     "name": "stdout",
     "output_type": "stream",
     "text": [
      "(175, 2500) (175, 2)\n",
      "[[  0.       0.       0.     ... 439.052  316.355  431.211 ]\n",
      " [  0.       0.       0.     ... 551.607  130.732  539.925 ]\n",
      " [ 87.9951 160.991   78.866  ...   0.     202.832  450.79  ]\n",
      " ...\n",
      " [  0.       0.       0.     ... 287.708  647.878  264.137 ]\n",
      " [  0.       0.     345.047  ... 397.288  441.629  398.571 ]\n",
      " [  0.       0.     249.287  ... 567.951   91.2048 556.213 ]]\n",
      "[[0 1]\n",
      " [1 0]\n",
      " [0 1]\n",
      " [0 1]\n",
      " [0 1]\n",
      " [0 1]\n",
      " [0 1]\n",
      " [0 1]\n",
      " [0 1]\n",
      " [1 0]\n",
      " [1 0]\n",
      " [0 1]\n",
      " [1 0]\n",
      " [1 0]\n",
      " [0 1]\n",
      " [0 1]\n",
      " [0 1]\n",
      " [0 1]\n",
      " [1 0]\n",
      " [1 0]\n",
      " [1 0]\n",
      " [0 1]\n",
      " [0 1]\n",
      " [1 0]\n",
      " [1 0]\n",
      " [0 1]\n",
      " [0 1]\n",
      " [1 0]\n",
      " [1 0]\n",
      " [0 1]\n",
      " [0 1]\n",
      " [1 0]\n",
      " [1 0]\n",
      " [0 1]\n",
      " [1 0]\n",
      " [0 1]\n",
      " [1 0]\n",
      " [0 1]\n",
      " [1 0]\n",
      " [0 1]\n",
      " [0 1]\n",
      " [1 0]\n",
      " [0 1]\n",
      " [1 0]\n",
      " [1 0]\n",
      " [0 1]\n",
      " [0 1]\n",
      " [0 1]\n",
      " [0 1]\n",
      " [0 1]\n",
      " [0 1]\n",
      " [1 0]\n",
      " [0 1]\n",
      " [0 1]\n",
      " [1 0]\n",
      " [0 1]\n",
      " [0 1]\n",
      " [0 1]\n",
      " [1 0]\n",
      " [1 0]\n",
      " [0 1]\n",
      " [0 1]\n",
      " [0 1]\n",
      " [0 1]\n",
      " [1 0]\n",
      " [0 1]\n",
      " [0 1]\n",
      " [0 1]\n",
      " [0 1]\n",
      " [0 1]\n",
      " [1 0]\n",
      " [1 0]\n",
      " [1 0]\n",
      " [0 1]\n",
      " [1 0]\n",
      " [1 0]\n",
      " [0 1]\n",
      " [0 1]\n",
      " [0 1]\n",
      " [1 0]\n",
      " [0 1]\n",
      " [0 1]\n",
      " [0 1]\n",
      " [0 1]\n",
      " [0 1]\n",
      " [0 1]\n",
      " [1 0]\n",
      " [1 0]\n",
      " [0 1]\n",
      " [0 1]\n",
      " [1 0]\n",
      " [0 1]\n",
      " [0 1]\n",
      " [0 1]\n",
      " [0 1]\n",
      " [1 0]\n",
      " [0 1]\n",
      " [1 0]\n",
      " [1 0]\n",
      " [0 1]\n",
      " [0 1]\n",
      " [1 0]\n",
      " [0 1]\n",
      " [0 1]\n",
      " [0 1]\n",
      " [0 1]\n",
      " [0 1]\n",
      " [0 1]\n",
      " [1 0]\n",
      " [0 1]\n",
      " [0 1]\n",
      " [0 1]\n",
      " [1 0]\n",
      " [0 1]\n",
      " [1 0]\n",
      " [0 1]\n",
      " [0 1]\n",
      " [0 1]\n",
      " [0 1]\n",
      " [0 1]\n",
      " [0 1]\n",
      " [0 1]\n",
      " [0 1]\n",
      " [1 0]\n",
      " [1 0]\n",
      " [0 1]\n",
      " [0 1]\n",
      " [0 1]\n",
      " [0 1]\n",
      " [0 1]\n",
      " [1 0]\n",
      " [0 1]\n",
      " [1 0]\n",
      " [1 0]\n",
      " [1 0]\n",
      " [0 1]\n",
      " [0 1]\n",
      " [0 1]\n",
      " [1 0]\n",
      " [0 1]\n",
      " [1 0]\n",
      " [0 1]\n",
      " [1 0]\n",
      " [0 1]\n",
      " [0 1]\n",
      " [1 0]\n",
      " [0 1]\n",
      " [0 1]\n",
      " [0 1]\n",
      " [1 0]\n",
      " [0 1]\n",
      " [0 1]\n",
      " [0 1]\n",
      " [0 1]\n",
      " [0 1]\n",
      " [0 1]\n",
      " [0 1]\n",
      " [0 1]\n",
      " [0 1]\n",
      " [0 1]\n",
      " [0 1]\n",
      " [0 1]\n",
      " [0 1]\n",
      " [0 1]\n",
      " [0 1]\n",
      " [0 1]\n",
      " [0 1]\n",
      " [1 0]\n",
      " [1 0]\n",
      " [0 1]\n",
      " [0 1]\n",
      " [1 0]\n",
      " [0 1]\n",
      " [0 1]\n",
      " [0 1]]\n"
     ]
    }
   ],
   "source": [
    "print(unscaledData.shape,l.shape)\n",
    "print(unscaledData)\n",
    "print(l)"
   ]
  },
  {
   "cell_type": "code",
   "execution_count": 368,
   "metadata": {
    "collapsed": true
   },
   "outputs": [],
   "source": [
    "#naiv standardize\n",
    "#minval = np.min(unscaledData[np.nonzero(unscaledData)])\n",
    "#maxval = np.max(unscaledData[np.nonzero(unscaledData)])\n",
    "#print(minval,maxval)\n",
    "#d = (unscaledData-minval)/(maxval-minval)\n",
    "#minval = np.min(d[np.nonzero(d)])\n",
    "#maxval = np.max(d[np.nonzero(d)])\n",
    "#print(minval,maxval)"
   ]
  },
  {
   "cell_type": "code",
   "execution_count": 369,
   "metadata": {},
   "outputs": [
    {
     "name": "stderr",
     "output_type": "stream",
     "text": [
      "/home/martin/anaconda3/lib/python3.6/site-packages/ipykernel_launcher.py:11: RuntimeWarning: Mean of empty slice\n",
      "  # This is added back by InteractiveShellApp.init_path()\n",
      "/home/martin/anaconda3/lib/python3.6/site-packages/ipykernel_launcher.py:12: RuntimeWarning: Mean of empty slice\n",
      "  if sys.path[0] == '':\n",
      "/home/martin/.local/lib/python3.6/site-packages/numpy/core/fromnumeric.py:83: RuntimeWarning: invalid value encountered in reduce\n",
      "  return ufunc.reduce(obj, axis, dtype, out, **passkwargs)\n"
     ]
    }
   ],
   "source": [
    "scaledData = []\n",
    "unscaledData[unscaledData == 0] = np.NaN\n",
    "for video in unscaledData:\n",
    "    temp =[]\n",
    "    for i in range(0,n_input):\n",
    "        p=50\n",
    "        frame = video[p*i:p*(i+1)]\n",
    "        # replace 0 with x_avg or y_avg\n",
    "        x_werte = frame[::2]\n",
    "        y_werte = frame[1::2]\n",
    "        x_avg = np.nanmean(x_werte)\n",
    "        y_avg = np.nanmean(y_werte)\n",
    "        x_werte[isnan(x_werte)] = x_avg\n",
    "        y_werte[isnan(y_werte)] = y_avg\n",
    "        # noramlize data with min max\n",
    "        minval = np.min(frame)\n",
    "        maxval = np.max(frame)\n",
    "        temp.append((frame - minval)/(maxval-minval))\n",
    "    scaledData.append(temp)"
   ]
  },
  {
   "cell_type": "code",
   "execution_count": 370,
   "metadata": {},
   "outputs": [
    {
     "name": "stdout",
     "output_type": "stream",
     "text": [
      "[[[0.         0.         0.         ... 0.         0.         0.        ]\n",
      "  [0.         0.         0.         ... 0.         0.         0.        ]\n",
      "  [0.         0.         0.         ... 0.         0.         0.        ]\n",
      "  ...\n",
      "  [0.28360899 0.01642869 0.19803314 ... 1.         0.05366871 0.96246099]\n",
      "  [0.33860669 0.02589716 0.25522812 ... 1.         0.08853086 0.94783053]\n",
      "  [0.37839039 0.01053091 0.29536171 ... 0.90146671 0.4144289  0.87034236]]\n",
      "\n",
      " [[0.         0.         0.         ... 0.         0.         0.        ]\n",
      "  [0.         0.         0.         ... 0.         0.         0.        ]\n",
      "  [0.         0.         0.         ... 0.         0.         0.        ]\n",
      "  ...\n",
      "  [0.13793849 0.29054006 0.1121794  ... 0.91303483 0.01011514 0.84689374]\n",
      "  [0.15555551 0.2748734  0.11953177 ... 0.95324423 0.01571151 0.90655307]\n",
      "  [0.16054593 0.26929308 0.13462425 ... 0.99484597 0.05701521 0.96881511]]\n",
      "\n",
      " [[0.15022296 0.37130481 0.12257376 ... 0.97629143 0.09870739 0.96828963]\n",
      "  [0.1429587  0.36114575 0.1152144  ... 0.96827667 0.08333052 0.95241957]\n",
      "  [0.14022226 0.35215407 0.12400428 ... 0.96387086 0.0683635  0.94396796]\n",
      "  ...\n",
      "  [0.17076985 0.06891041 0.14224123 ... 0.99193174 0.16655193 0.95124466]\n",
      "  [0.18432993 0.06962103 0.15577438 ... 1.         0.1721183  0.9630888 ]\n",
      "  [0.1921639  0.06691462 0.1628587  ... 0.50533481 0.19242682 0.98744429]]\n",
      "\n",
      " ...\n",
      "\n",
      " [[0.         0.         0.         ... 0.         0.         0.        ]\n",
      "  [0.         0.         0.         ... 0.         0.         0.        ]\n",
      "  [0.         0.         0.         ... 0.         0.         0.        ]\n",
      "  ...\n",
      "  [0.85054838 0.01095496 0.89227425 ... 0.37141906 1.         0.33191783]\n",
      "  [0.8433018  0.01330047 0.88139863 ... 0.37130972 1.         0.32434946]\n",
      "  [0.84321296 0.011505   0.88016602 ... 0.36419128 1.         0.32258135]]\n",
      "\n",
      " [[0.91123293 0.25764789 0.87488749 ... 0.25764789 0.91123293 0.25764789]\n",
      "  [0.         0.         0.         ... 0.         0.         0.        ]\n",
      "  [0.         0.         0.         ... 0.         0.         0.        ]\n",
      "  ...\n",
      "  [0.84107685 0.00967233 0.88919174 ... 0.5814524  0.76894687 0.60074182]\n",
      "  [0.8163946  0.0240459  0.87919304 ... 0.58945031 0.76324264 0.60393485]\n",
      "  [0.81444224 0.01959986 0.8633279  ... 0.60493117 0.77062749 0.60972556]]\n",
      "\n",
      " [[0.1454835  0.68381361 0.16251438 ... 0.92936635 0.1335595  0.94595936]\n",
      "  [0.14230882 0.69037432 0.15895654 ... 0.99565316 0.14649896 0.9622872 ]\n",
      "  [0.13658095 0.70121954 0.14587237 ... 0.99584403 0.16291165 0.96579959]\n",
      "  ...\n",
      "  [0.07643969 0.79916084 0.07442135 ... 0.99599812 0.1364621  0.96726345]\n",
      "  [0.07956209 0.80274033 0.07818283 ... 0.99592187 0.13994554 0.9631889 ]\n",
      "  [0.07340054 0.81956144 0.06817396 ... 0.99581348 0.12347731 0.97433564]]]\n"
     ]
    }
   ],
   "source": [
    "d = np.nan_to_num(scaledData)\n",
    "print(d)"
   ]
  },
  {
   "cell_type": "code",
   "execution_count": 371,
   "metadata": {
    "collapsed": true
   },
   "outputs": [],
   "source": [
    "#split data in train and testset\n",
    "testSize=batch_size \n",
    "\n",
    "train_data = d[testSize:,:]\n",
    "train_labels = l[testSize:,:]\n",
    "test_data = d[:testSize,:]\n",
    "test_labels = l[:testSize,:]"
   ]
  },
  {
   "cell_type": "code",
   "execution_count": 372,
   "metadata": {},
   "outputs": [
    {
     "data": {
      "text/plain": [
       "((7, 50, 50), (7, 2))"
      ]
     },
     "execution_count": 372,
     "metadata": {},
     "output_type": "execute_result"
    }
   ],
   "source": [
    "test_data.shape, test_labels.shape"
   ]
  },
  {
   "cell_type": "code",
   "execution_count": 373,
   "metadata": {},
   "outputs": [
    {
     "data": {
      "text/plain": [
       "((168, 50, 50), (168, 2))"
      ]
     },
     "execution_count": 373,
     "metadata": {},
     "output_type": "execute_result"
    }
   ],
   "source": [
    "train_data.shape, train_labels.shape"
   ]
  },
  {
   "cell_type": "code",
   "execution_count": null,
   "metadata": {
    "collapsed": true
   },
   "outputs": [],
   "source": []
  },
  {
   "cell_type": "code",
   "execution_count": 374,
   "metadata": {
    "collapsed": true
   },
   "outputs": [],
   "source": [
    "#weights and biases of appropriate shape to accomplish above task\n",
    "out_weights=tf.Variable(tf.random_normal([num_units,n_classes]))\n",
    "out_bias=tf.Variable(tf.random_normal([n_classes]))\n",
    "\n",
    "#defining placeholders\n",
    "#input image placeholder\n",
    "x=tf.placeholder(\"float\",[None,time_steps,n_input])\n",
    "#input label placeholder\n",
    "y=tf.placeholder(\"float\",[None,n_classes])"
   ]
  },
  {
   "cell_type": "code",
   "execution_count": 375,
   "metadata": {
    "collapsed": true
   },
   "outputs": [],
   "source": [
    "#processing the input tensor from [batch_size,n_steps,n_input] to \"time_steps\" number of [batch_size,n_input] tensors\n",
    "input=tf.unstack(x ,time_steps,1)"
   ]
  },
  {
   "cell_type": "code",
   "execution_count": 376,
   "metadata": {},
   "outputs": [],
   "source": [
    "#defining the network\n",
    "lstm_layer=tf.nn.rnn_cell.LSTMCell(num_units,forget_bias=1)\n",
    "outputs,_=rnn.static_rnn(lstm_layer,input,dtype=\"float32\")"
   ]
  },
  {
   "cell_type": "code",
   "execution_count": 377,
   "metadata": {
    "collapsed": true
   },
   "outputs": [],
   "source": [
    "#converting last output of dimension [batch_size,num_units] to [batch_size,n_classes] by out_weight multiplication\n",
    "prediction=tf.matmul(outputs[-1],out_weights)+out_bias"
   ]
  },
  {
   "cell_type": "code",
   "execution_count": 378,
   "metadata": {},
   "outputs": [],
   "source": [
    "#loss_function\n",
    "loss=tf.reduce_mean(tf.nn.softmax_cross_entropy_with_logits_v2(logits=prediction,labels=y))\n",
    "#optimization\n",
    "opt=tf.train.AdamOptimizer(learning_rate=learning_rate).minimize(loss)\n",
    "\n",
    "#model evaluation\n",
    "correct_prediction=tf.equal(tf.argmax(prediction,1),tf.argmax(y,1))\n",
    "accuracy=tf.reduce_mean(tf.cast(correct_prediction,tf.float32))"
   ]
  },
  {
   "cell_type": "code",
   "execution_count": 379,
   "metadata": {},
   "outputs": [
    {
     "name": "stdout",
     "output_type": "stream",
     "text": [
      "0\n",
      "For iter  0\n",
      "Accuracy  0.42857143\n",
      "Loss  41.5687\n",
      "__________________\n",
      "1\n",
      "For iter  1\n",
      "Accuracy  0.5714286\n",
      "Loss  24.412495\n",
      "__________________\n",
      "2\n",
      "For iter  2\n",
      "Accuracy  0.5714286\n",
      "Loss  20.835052\n",
      "__________________\n",
      "3\n",
      "For iter  3\n",
      "Accuracy  0.42857143\n",
      "Loss  20.22328\n",
      "__________________\n",
      "4\n",
      "For iter  4\n",
      "Accuracy  0.5714286\n",
      "Loss  10.604745\n",
      "__________________\n",
      "5\n",
      "For iter  5\n",
      "Accuracy  0.71428573\n",
      "Loss  4.1016574\n",
      "__________________\n",
      "6\n",
      "For iter  6\n",
      "Accuracy  0.71428573\n",
      "Loss  1.7292207\n",
      "__________________\n",
      "7\n",
      "For iter  7\n",
      "Accuracy  0.2857143\n",
      "Loss  2.3135521\n",
      "__________________\n",
      "8\n",
      "For iter  8\n",
      "Accuracy  0.14285715\n",
      "Loss  5.276259\n",
      "__________________\n",
      "9\n",
      "For iter  9\n",
      "Accuracy  0.71428573\n",
      "Loss  2.1127756\n",
      "__________________\n",
      "10\n",
      "For iter  10\n",
      "Accuracy  0.14285715\n",
      "Loss  5.2864356\n",
      "__________________\n",
      "11\n",
      "For iter  11\n",
      "Accuracy  0.42857143\n",
      "Loss  1.9790618\n",
      "__________________\n",
      "12\n",
      "For iter  12\n",
      "Accuracy  0.71428573\n",
      "Loss  0.6100553\n",
      "__________________\n",
      "13\n",
      "For iter  13\n",
      "Accuracy  0.71428573\n",
      "Loss  1.2483855\n",
      "__________________\n",
      "14\n",
      "For iter  14\n",
      "Accuracy  0.85714287\n",
      "Loss  1.0524539\n",
      "__________________\n",
      "15\n",
      "For iter  15\n",
      "Accuracy  0.71428573\n",
      "Loss  2.7184832\n",
      "__________________\n",
      "16\n",
      "For iter  16\n",
      "Accuracy  0.71428573\n",
      "Loss  2.9717631\n",
      "__________________\n",
      "17\n",
      "For iter  17\n",
      "Accuracy  0.71428573\n",
      "Loss  3.02826\n",
      "__________________\n",
      "18\n",
      "For iter  18\n",
      "Accuracy  0.5714286\n",
      "Loss  4.1863127\n",
      "__________________\n",
      "19\n",
      "For iter  19\n",
      "Accuracy  0.5714286\n",
      "Loss  3.4349918\n",
      "__________________\n",
      "20\n",
      "For iter  20\n",
      "Accuracy  0.85714287\n",
      "Loss  0.8379641\n",
      "__________________\n",
      "21\n",
      "For iter  21\n",
      "Accuracy  1.0\n",
      "Loss  0.01701494\n",
      "__________________\n",
      "22\n",
      "For iter  22\n",
      "Accuracy  0.85714287\n",
      "Loss  0.41252375\n",
      "__________________\n",
      "23\n",
      "For iter  23\n",
      "Accuracy  0.2857143\n",
      "Loss  0.73917997\n",
      "__________________\n",
      "Testing Accuracy: 0.14285715\n"
     ]
    }
   ],
   "source": [
    "#initialize variables\n",
    "accList =[]\n",
    "init=tf.global_variables_initializer()\n",
    "with tf.Session() as sess:\n",
    "    sess.run(init)\n",
    "    iter=0\n",
    "    while iter<trainSize//batch_size:\n",
    "        print(iter)\n",
    "        batch_x=train_data[batch_size*iter:batch_size*(iter+1)]\n",
    "        \n",
    "        batch_y=train_labels[batch_size*iter:batch_size*(iter+1)]\n",
    "        #print(batch_x)\n",
    "        batch_x=batch_x.reshape((batch_size,time_steps,n_input))\n",
    "\n",
    "        sess.run(opt, feed_dict={x: batch_x, y: batch_y})\n",
    "\n",
    "        if iter%1==0:\n",
    "            acc=sess.run(accuracy,feed_dict={x:batch_x,y:batch_y})\n",
    "            accList.append(acc)\n",
    "            los=sess.run(loss,feed_dict={x:batch_x,y:batch_y})\n",
    "            print(\"For iter \",iter)\n",
    "            print(\"Accuracy \",acc)\n",
    "            print(\"Loss \",los)\n",
    "            print(\"__________________\")\n",
    "\n",
    "        iter=iter+1\n",
    "\n",
    "    #calculating test accuracy\n",
    "    test_data = test_data[:batch_size].reshape((-1, time_steps, n_input))\n",
    "    test_label = test_labels[:batch_size]\n",
    "    print(\"Testing Accuracy:\", sess.run(accuracy, feed_dict={x: test_data, y: test_label}))"
   ]
  },
  {
   "cell_type": "code",
   "execution_count": 384,
   "metadata": {},
   "outputs": [
    {
     "data": {
      "text/plain": [
       "0.5952381292978922"
      ]
     },
     "execution_count": 384,
     "metadata": {},
     "output_type": "execute_result"
    }
   ],
   "source": [
    "sum(accList)/len(accList)"
   ]
  },
  {
   "cell_type": "code",
   "execution_count": 385,
   "metadata": {
    "collapsed": true
   },
   "outputs": [],
   "source": [
    "sess.close()\n",
    "\n",
    "tf.reset_default_graph()"
   ]
  },
  {
   "cell_type": "markdown",
   "metadata": {
    "collapsed": true
   },
   "source": [
    "# Visualisation"
   ]
  },
  {
   "cell_type": "code",
   "execution_count": 29,
   "metadata": {
    "collapsed": true
   },
   "outputs": [],
   "source": [
    "\n",
    "show_data = d.reshape(-1,n_input)*500\n",
    "show_label = [np.where(r==1)[0][0] for r in l]"
   ]
  },
  {
   "cell_type": "code",
   "execution_count": 30,
   "metadata": {
    "collapsed": true
   },
   "outputs": [],
   "source": [
    "#show_label"
   ]
  },
  {
   "cell_type": "code",
   "execution_count": 31,
   "metadata": {},
   "outputs": [
    {
     "data": {
      "text/plain": [
       "(2250, 50)"
      ]
     },
     "execution_count": 31,
     "metadata": {},
     "output_type": "execute_result"
    }
   ],
   "source": [
    "show_data.shape"
   ]
  },
  {
   "cell_type": "code",
   "execution_count": 32,
   "metadata": {},
   "outputs": [
    {
     "data": {
      "text/plain": [
       "322.6544923518044"
      ]
     },
     "execution_count": 32,
     "metadata": {},
     "output_type": "execute_result"
    }
   ],
   "source": [
    "testing = show_data[1]\n",
    "testing[1]"
   ]
  },
  {
   "cell_type": "code",
   "execution_count": 33,
   "metadata": {
    "collapsed": true
   },
   "outputs": [],
   "source": [
    "pairs = [\n",
    "        (1,8),(1,2),(1,5),(2,3),(3,4),   \n",
    "        (5,6),(6,7),(8,9),(9,10),(10,11),\n",
    "        (8,12),(12,13),(13,14),(1,0),(0,15), \n",
    "        (15,17),(0,16),(16,18),\n",
    "        (14,19),(19,20),(14,21),(11,22),(22,23),\n",
    "        (11,24)\n",
    "        ]"
   ]
  },
  {
   "cell_type": "code",
   "execution_count": 34,
   "metadata": {},
   "outputs": [
    {
     "data": {
      "text/plain": [
       "8"
      ]
     },
     "execution_count": 34,
     "metadata": {},
     "output_type": "execute_result"
    }
   ],
   "source": [
    "pairs[0][1]"
   ]
  },
  {
   "cell_type": "code",
   "execution_count": 38,
   "metadata": {},
   "outputs": [
    {
     "name": "stdout",
     "output_type": "stream",
     "text": [
      "This game was played for 20.63 seconds\n"
     ]
    }
   ],
   "source": [
    "import pygame\n",
    "import sys, traceback\n",
    "\n",
    "# Initialize Pygame.\n",
    "pygame.init()\n",
    "# Set size of pygame window.\n",
    "screen=pygame.display.set_mode((900,750))\n",
    "# Create empty pygame surface.\n",
    "background = pygame.Surface(screen.get_size())\n",
    "# Fill the background white color.\n",
    "background.fill((255, 255, 255))\n",
    "# Convert Surface object to make blitting faster.\n",
    "background = background.convert()\n",
    "# Copy background to screen (position (0, 0) is upper left corner).\n",
    "screen.blit(background, (0,0))\n",
    "# Create Pygame clock object.\n",
    "clock = pygame.time.Clock()\n",
    "\n",
    "mainloop = True\n",
    "# Desired framerate in frames per second. Try out other values.\n",
    "FPS = 30\n",
    "# How many seconds the \"game\" is played.\n",
    "playtime = 0.0\n",
    "\n",
    "count = 0.0\n",
    "\n",
    "speed = 1\n",
    "\n",
    "try:\n",
    "    \n",
    "    while mainloop:\n",
    "        # Do not go faster than this framerate.\n",
    "        milliseconds = clock.tick(FPS*speed)\n",
    "        playtime += milliseconds / 1000.0\n",
    "\n",
    "        for event in pygame.event.get():\n",
    "            # User presses QUIT-button.\n",
    "            if event.type == pygame.QUIT:\n",
    "                mainloop = False\n",
    "            elif event.type == pygame.KEYDOWN:\n",
    "                # User presses ESCAPE-Key\n",
    "                if event.key == pygame.K_ESCAPE:\n",
    "                    mainloop = False\n",
    "\n",
    "        # Print framerate and playtime in titlebar.\n",
    "        currentSample=int(count/n_input)%len(show_label)\n",
    "        text = \"FPS: {0:.2f}   Playtime: {1:.2f}  NR: {2:d}  Label: \".format(clock.get_fps(), playtime, currentSample+1)\n",
    "        text += labelNames[show_label[currentSample]]\n",
    "        pygame.display.set_caption(text)\n",
    "        background.fill((255, 255, 255))\n",
    "        f = show_data[int(count)%(show_data.shape[0])]\n",
    "        \n",
    "        for p in pairs:\n",
    "            x1=int(f[p[0]*2])\n",
    "            y1=int(f[p[0]*2+1])\n",
    "            x2=int(f[p[1]*2])\n",
    "            y2=int(f[p[1]*2+1])\n",
    "            #if not (x1 == 0 or x2 == 0 or y1 == 0 or y2 == 0):\n",
    "                #pygame.draw.line(background, (0, 0, 0), [x1,y1], [x2,y2], 1)\n",
    "        for i in range(0,f.shape[0],2):#2 for no conf\n",
    "            #confColor = 255 - int(255*f[i+2])%255\n",
    "            #pygame.draw.rect(background, (confColor, confColor, confColor), (int(f[i]),int(f[i+1]),4,4)) #bw\n",
    "            #pygame.draw.rect(background, (confColor, 0, 255-confColor), (int(f[i]),int(f[i+1]),4,4)) #rb\n",
    "            if i!=25:\n",
    "                pygame.draw.rect(background, (0, 0, 0), (int(f[i]),int(f[i+1]),4,4)) #no Conf\n",
    "            else:\n",
    "                pygame.draw.rect(background, (255, 0, 0), (int(f[i]),int(f[i+1]),4,4)) #no Conf\n",
    "        #screen.blit(background, (300-f[8*2],300-f[8*2+1]))#2 for no conf\n",
    "        screen.blit(background, (0,0))\n",
    "        #Update Pygame display.\n",
    "        pygame.display.update()\n",
    "\n",
    "        count += 1\n",
    "except TypeError:\n",
    "    print(\"Type error: \", count,\" \", i)\n",
    "    traceback.print_exc(file=sys.stdout)\n",
    "except:\n",
    "    traceback.print_exc(file=sys.stdout)\n",
    "else:\n",
    "    pygame.quit()\n",
    "# Finish Pygame.\n",
    "pygame.quit()\n",
    "\n",
    "# At the very last:\n",
    "print(\"This game was played for {0:.2f} seconds\".format(playtime))"
   ]
  },
  {
   "cell_type": "code",
   "execution_count": null,
   "metadata": {
    "collapsed": true
   },
   "outputs": [],
   "source": [
    "pygame.display.list_modes()"
   ]
  },
  {
   "cell_type": "markdown",
   "metadata": {
    "collapsed": true
   },
   "source": [
    "# Live Data-read"
   ]
  },
  {
   "cell_type": "code",
   "execution_count": null,
   "metadata": {
    "collapsed": true
   },
   "outputs": [],
   "source": [
    "import sys\n",
    "import time\n",
    "import logging\n",
    "from watchdog.observers import Observer\n",
    "from watchdog.events import LoggingEventHandler\n",
    "from watchdog.events import PatternMatchingEventHandler  "
   ]
  },
  {
   "cell_type": "code",
   "execution_count": null,
   "metadata": {
    "collapsed": true
   },
   "outputs": [],
   "source": [
    "class MyHandler(PatternMatchingEventHandler):\n",
    "    patterns = [\"*.json\"]\n",
    "    data = []\n",
    "\n",
    "    def process(self, event):\n",
    "        \"\"\"\n",
    "        event.event_type \n",
    "            'modified' | 'created' | 'moved' | 'deleted'\n",
    "        event.is_directory\n",
    "            True | False\n",
    "        event.src_path\n",
    "            path/to/observed/file\n",
    "        \"\"\"\n",
    "        # the file will be processed there\n",
    "        try:\n",
    "            #print(i)\n",
    "            f = pd.read_json(event.src_path).iloc[0,0]['pose_keypoints_2d']\n",
    "            self.data.append(f)\n",
    "            print(f)\n",
    "        except ValueError:\n",
    "            print(\"ERROR reading: \",event.src_path, event.event_type)\n",
    "\n",
    "\n",
    "    def on_created(self, event):\n",
    "        self.process(event)\n",
    "        \n",
    "observer = Observer()\n",
    "observer.schedule(MyHandler(), '.')\n",
    "observer.start()\n",
    "\n",
    "try:\n",
    "    while True:\n",
    "        time.sleep(1)\n",
    "except KeyboardInterrupt:\n",
    "    observer.stop()\n",
    "observer.join()"
   ]
  },
  {
   "cell_type": "code",
   "execution_count": null,
   "metadata": {
    "collapsed": true
   },
   "outputs": [],
   "source": []
  },
  {
   "cell_type": "code",
   "execution_count": null,
   "metadata": {
    "collapsed": true
   },
   "outputs": [],
   "source": []
  },
  {
   "cell_type": "code",
   "execution_count": null,
   "metadata": {
    "collapsed": true
   },
   "outputs": [],
   "source": []
  }
 ],
 "metadata": {
  "kernelspec": {
   "display_name": "Python 3",
   "language": "python",
   "name": "python3"
  },
  "language_info": {
   "codemirror_mode": {
    "name": "ipython",
    "version": 3
   },
   "file_extension": ".py",
   "mimetype": "text/x-python",
   "name": "python",
   "nbconvert_exporter": "python",
   "pygments_lexer": "ipython3",
   "version": "3.6.3"
  }
 },
 "nbformat": 4,
 "nbformat_minor": 2
}
