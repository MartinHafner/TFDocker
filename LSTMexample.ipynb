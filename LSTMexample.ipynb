{
 "cells": [
  {
   "cell_type": "markdown",
   "metadata": {},
   "source": [
    "https://jasdeep06.github.io/posts/Understanding-LSTM-in-Tensorflow-MNIST/"
   ]
  },
  {
   "cell_type": "code",
   "execution_count": 1,
   "metadata": {},
   "outputs": [
    {
     "name": "stdout",
     "output_type": "stream",
     "text": [
      "WARNING:tensorflow:From <ipython-input-1-63d82b2f8f57>:6: read_data_sets (from tensorflow.contrib.learn.python.learn.datasets.mnist) is deprecated and will be removed in a future version.\n",
      "Instructions for updating:\n",
      "Please use alternatives such as official/mnist/dataset.py from tensorflow/models.\n",
      "WARNING:tensorflow:From /home/martin/.local/lib/python3.6/site-packages/tensorflow/contrib/learn/python/learn/datasets/mnist.py:260: maybe_download (from tensorflow.contrib.learn.python.learn.datasets.base) is deprecated and will be removed in a future version.\n",
      "Instructions for updating:\n",
      "Please write your own downloading logic.\n",
      "WARNING:tensorflow:From /home/martin/.local/lib/python3.6/site-packages/tensorflow/contrib/learn/python/learn/datasets/mnist.py:262: extract_images (from tensorflow.contrib.learn.python.learn.datasets.mnist) is deprecated and will be removed in a future version.\n",
      "Instructions for updating:\n",
      "Please use tf.data to implement this functionality.\n",
      "Extracting /tmp/data/train-images-idx3-ubyte.gz\n",
      "WARNING:tensorflow:From /home/martin/.local/lib/python3.6/site-packages/tensorflow/contrib/learn/python/learn/datasets/mnist.py:267: extract_labels (from tensorflow.contrib.learn.python.learn.datasets.mnist) is deprecated and will be removed in a future version.\n",
      "Instructions for updating:\n",
      "Please use tf.data to implement this functionality.\n",
      "Extracting /tmp/data/train-labels-idx1-ubyte.gz\n",
      "WARNING:tensorflow:From /home/martin/.local/lib/python3.6/site-packages/tensorflow/contrib/learn/python/learn/datasets/mnist.py:110: dense_to_one_hot (from tensorflow.contrib.learn.python.learn.datasets.mnist) is deprecated and will be removed in a future version.\n",
      "Instructions for updating:\n",
      "Please use tf.one_hot on tensors.\n",
      "Extracting /tmp/data/t10k-images-idx3-ubyte.gz\n",
      "Extracting /tmp/data/t10k-labels-idx1-ubyte.gz\n",
      "WARNING:tensorflow:From /home/martin/.local/lib/python3.6/site-packages/tensorflow/contrib/learn/python/learn/datasets/mnist.py:290: DataSet.__init__ (from tensorflow.contrib.learn.python.learn.datasets.mnist) is deprecated and will be removed in a future version.\n",
      "Instructions for updating:\n",
      "Please use alternatives such as official/mnist/dataset.py from tensorflow/models.\n"
     ]
    }
   ],
   "source": [
    "import tensorflow as tf\n",
    "from tensorflow.contrib import rnn\n",
    "\n",
    "#import mnist dataset\n",
    "from tensorflow.examples.tutorials.mnist import input_data\n",
    "mnist=input_data.read_data_sets(\"/tmp/data/\",one_hot=True)\n",
    "\n",
    "#define constants\n",
    "#unrolled through 28 time steps\n",
    "time_steps=28\n",
    "#hidden LSTM units\n",
    "num_units=128\n",
    "#rows of 28 pixels\n",
    "n_input=28\n",
    "#learning rate for adam\n",
    "learning_rate=0.001\n",
    "#mnist is meant to be classified in 10 classes(0-9).\n",
    "n_classes=10\n",
    "#size of batch\n",
    "batch_size=128"
   ]
  },
  {
   "cell_type": "code",
   "execution_count": 2,
   "metadata": {
    "collapsed": true
   },
   "outputs": [],
   "source": [
    "#weights and biases of appropriate shape to accomplish above task\n",
    "out_weights=tf.Variable(tf.random_normal([num_units,n_classes]))\n",
    "out_bias=tf.Variable(tf.random_normal([n_classes]))\n",
    "\n",
    "#defining placeholders\n",
    "#input image placeholder\n",
    "x=tf.placeholder(\"float\",[None,time_steps,n_input])\n",
    "#input label placeholder\n",
    "y=tf.placeholder(\"float\",[None,n_classes])"
   ]
  },
  {
   "cell_type": "code",
   "execution_count": 3,
   "metadata": {
    "collapsed": true
   },
   "outputs": [],
   "source": [
    "#processing the input tensor from [batch_size,n_steps,n_input] to \"time_steps\" number of [batch_size,n_input] tensors\n",
    "input=tf.unstack(x ,time_steps,1)"
   ]
  },
  {
   "cell_type": "code",
   "execution_count": 4,
   "metadata": {},
   "outputs": [
    {
     "name": "stdout",
     "output_type": "stream",
     "text": [
      "WARNING:tensorflow:From <ipython-input-4-1169d0dbfe46>:2: BasicLSTMCell.__init__ (from tensorflow.python.ops.rnn_cell_impl) is deprecated and will be removed in a future version.\n",
      "Instructions for updating:\n",
      "This class is deprecated, please use tf.nn.rnn_cell.LSTMCell, which supports all the feature this cell currently has. Please replace the existing code with tf.nn.rnn_cell.LSTMCell(name='basic_lstm_cell').\n"
     ]
    }
   ],
   "source": [
    "#defining the network\n",
    "lstm_layer=rnn.BasicLSTMCell(num_units,forget_bias=1)\n",
    "outputs,_=rnn.static_rnn(lstm_layer,input,dtype=\"float32\")"
   ]
  },
  {
   "cell_type": "code",
   "execution_count": 5,
   "metadata": {
    "collapsed": true
   },
   "outputs": [],
   "source": [
    "#converting last output of dimension [batch_size,num_units] to [batch_size,n_classes] by out_weight multiplication\n",
    "prediction=tf.matmul(outputs[-1],out_weights)+out_bias"
   ]
  },
  {
   "cell_type": "code",
   "execution_count": 6,
   "metadata": {},
   "outputs": [
    {
     "name": "stdout",
     "output_type": "stream",
     "text": [
      "WARNING:tensorflow:From <ipython-input-6-2663a3fbb76b>:2: softmax_cross_entropy_with_logits (from tensorflow.python.ops.nn_ops) is deprecated and will be removed in a future version.\n",
      "Instructions for updating:\n",
      "\n",
      "Future major versions of TensorFlow will allow gradients to flow\n",
      "into the labels input on backprop by default.\n",
      "\n",
      "See `tf.nn.softmax_cross_entropy_with_logits_v2`.\n",
      "\n"
     ]
    }
   ],
   "source": [
    "#loss_function\n",
    "loss=tf.reduce_mean(tf.nn.softmax_cross_entropy_with_logits(logits=prediction,labels=y))\n",
    "#optimization\n",
    "opt=tf.train.AdamOptimizer(learning_rate=learning_rate).minimize(loss)\n",
    "\n",
    "#model evaluation\n",
    "correct_prediction=tf.equal(tf.argmax(prediction,1),tf.argmax(y,1))\n",
    "accuracy=tf.reduce_mean(tf.cast(correct_prediction,tf.float32))"
   ]
  },
  {
   "cell_type": "code",
   "execution_count": 7,
   "metadata": {
    "scrolled": true
   },
   "outputs": [
    {
     "name": "stdout",
     "output_type": "stream",
     "text": [
      "For iter  10\n",
      "Accuracy  0.375\n",
      "Loss  1.9126184\n",
      "__________________\n",
      "For iter  20\n",
      "Accuracy  0.46875\n",
      "Loss  1.5718455\n",
      "__________________\n",
      "For iter  30\n",
      "Accuracy  0.5859375\n",
      "Loss  1.2949637\n",
      "__________________\n",
      "For iter  40\n",
      "Accuracy  0.6640625\n",
      "Loss  1.1138431\n",
      "__________________\n",
      "For iter  50\n",
      "Accuracy  0.71875\n",
      "Loss  0.96088207\n",
      "__________________\n",
      "For iter  60\n",
      "Accuracy  0.734375\n",
      "Loss  0.8721966\n",
      "__________________\n",
      "For iter  70\n",
      "Accuracy  0.734375\n",
      "Loss  0.79080135\n",
      "__________________\n",
      "For iter  80\n",
      "Accuracy  0.8359375\n",
      "Loss  0.5129329\n",
      "__________________\n",
      "For iter  90\n",
      "Accuracy  0.8515625\n",
      "Loss  0.4708845\n",
      "__________________\n",
      "For iter  100\n",
      "Accuracy  0.828125\n",
      "Loss  0.46431565\n",
      "__________________\n",
      "For iter  110\n",
      "Accuracy  0.84375\n",
      "Loss  0.4252325\n",
      "__________________\n",
      "For iter  120\n",
      "Accuracy  0.828125\n",
      "Loss  0.5428231\n",
      "__________________\n",
      "For iter  130\n",
      "Accuracy  0.890625\n",
      "Loss  0.37249342\n",
      "__________________\n",
      "For iter  140\n",
      "Accuracy  0.8984375\n",
      "Loss  0.346106\n",
      "__________________\n",
      "For iter  150\n",
      "Accuracy  0.8984375\n",
      "Loss  0.30593717\n",
      "__________________\n",
      "For iter  160\n",
      "Accuracy  0.8984375\n",
      "Loss  0.3004291\n",
      "__________________\n",
      "For iter  170\n",
      "Accuracy  0.875\n",
      "Loss  0.24941736\n",
      "__________________\n",
      "For iter  180\n",
      "Accuracy  0.890625\n",
      "Loss  0.42441761\n",
      "__________________\n",
      "For iter  190\n",
      "Accuracy  0.890625\n",
      "Loss  0.33276045\n",
      "__________________\n",
      "For iter  200\n",
      "Accuracy  0.921875\n",
      "Loss  0.29590413\n",
      "__________________\n",
      "For iter  210\n",
      "Accuracy  0.921875\n",
      "Loss  0.285787\n",
      "__________________\n",
      "For iter  220\n",
      "Accuracy  0.890625\n",
      "Loss  0.4195105\n",
      "__________________\n",
      "For iter  230\n",
      "Accuracy  0.90625\n",
      "Loss  0.2905146\n",
      "__________________\n",
      "For iter  240\n",
      "Accuracy  0.90625\n",
      "Loss  0.27566165\n",
      "__________________\n",
      "For iter  250\n",
      "Accuracy  0.9453125\n",
      "Loss  0.17665637\n",
      "__________________\n",
      "For iter  260\n",
      "Accuracy  0.9453125\n",
      "Loss  0.16779298\n",
      "__________________\n",
      "For iter  270\n",
      "Accuracy  0.953125\n",
      "Loss  0.20009981\n",
      "__________________\n",
      "For iter  280\n",
      "Accuracy  0.9609375\n",
      "Loss  0.14371225\n",
      "__________________\n",
      "For iter  290\n",
      "Accuracy  0.9375\n",
      "Loss  0.15211244\n",
      "__________________\n",
      "For iter  300\n",
      "Accuracy  0.9296875\n",
      "Loss  0.17165971\n",
      "__________________\n",
      "For iter  310\n",
      "Accuracy  0.9453125\n",
      "Loss  0.19490632\n",
      "__________________\n",
      "For iter  320\n",
      "Accuracy  0.953125\n",
      "Loss  0.16102493\n",
      "__________________\n",
      "For iter  330\n",
      "Accuracy  0.9375\n",
      "Loss  0.2866792\n",
      "__________________\n",
      "For iter  340\n",
      "Accuracy  0.9609375\n",
      "Loss  0.09785916\n",
      "__________________\n",
      "For iter  350\n",
      "Accuracy  0.9453125\n",
      "Loss  0.1887433\n",
      "__________________\n",
      "For iter  360\n",
      "Accuracy  0.96875\n",
      "Loss  0.11624391\n",
      "__________________\n",
      "For iter  370\n",
      "Accuracy  0.9296875\n",
      "Loss  0.20729458\n",
      "__________________\n",
      "For iter  380\n",
      "Accuracy  0.9453125\n",
      "Loss  0.24077448\n",
      "__________________\n",
      "For iter  390\n",
      "Accuracy  0.984375\n",
      "Loss  0.13257857\n",
      "__________________\n",
      "For iter  400\n",
      "Accuracy  0.953125\n",
      "Loss  0.1319829\n",
      "__________________\n",
      "For iter  410\n",
      "Accuracy  0.9453125\n",
      "Loss  0.15715313\n",
      "__________________\n",
      "For iter  420\n",
      "Accuracy  0.9609375\n",
      "Loss  0.15102507\n",
      "__________________\n",
      "For iter  430\n",
      "Accuracy  0.96875\n",
      "Loss  0.12654506\n",
      "__________________\n",
      "For iter  440\n",
      "Accuracy  0.921875\n",
      "Loss  0.24346904\n",
      "__________________\n",
      "For iter  450\n",
      "Accuracy  0.9609375\n",
      "Loss  0.1480126\n",
      "__________________\n",
      "For iter  460\n",
      "Accuracy  0.9609375\n",
      "Loss  0.13498224\n",
      "__________________\n",
      "For iter  470\n",
      "Accuracy  0.9921875\n",
      "Loss  0.0437773\n",
      "__________________\n",
      "For iter  480\n",
      "Accuracy  0.9453125\n",
      "Loss  0.17404002\n",
      "__________________\n",
      "For iter  490\n",
      "Accuracy  0.9375\n",
      "Loss  0.16435231\n",
      "__________________\n",
      "For iter  500\n",
      "Accuracy  0.9453125\n",
      "Loss  0.1217879\n",
      "__________________\n",
      "For iter  510\n",
      "Accuracy  0.9296875\n",
      "Loss  0.16734418\n",
      "__________________\n",
      "For iter  520\n",
      "Accuracy  0.9765625\n",
      "Loss  0.08218105\n",
      "__________________\n",
      "For iter  530\n",
      "Accuracy  0.9765625\n",
      "Loss  0.066820174\n",
      "__________________\n",
      "For iter  540\n",
      "Accuracy  0.9765625\n",
      "Loss  0.073978126\n",
      "__________________\n",
      "For iter  550\n",
      "Accuracy  0.9765625\n",
      "Loss  0.11847735\n",
      "__________________\n",
      "For iter  560\n",
      "Accuracy  0.9765625\n",
      "Loss  0.058056213\n",
      "__________________\n",
      "For iter  570\n",
      "Accuracy  0.96875\n",
      "Loss  0.10753447\n",
      "__________________\n",
      "For iter  580\n",
      "Accuracy  0.9375\n",
      "Loss  0.19939399\n",
      "__________________\n",
      "For iter  590\n",
      "Accuracy  0.9765625\n",
      "Loss  0.0849442\n",
      "__________________\n",
      "For iter  600\n",
      "Accuracy  0.96875\n",
      "Loss  0.08093228\n",
      "__________________\n",
      "For iter  610\n",
      "Accuracy  0.9765625\n",
      "Loss  0.07604365\n",
      "__________________\n",
      "For iter  620\n",
      "Accuracy  0.9609375\n",
      "Loss  0.10537848\n",
      "__________________\n",
      "For iter  630\n",
      "Accuracy  0.96875\n",
      "Loss  0.14134645\n",
      "__________________\n",
      "For iter  640\n",
      "Accuracy  0.9609375\n",
      "Loss  0.12298143\n",
      "__________________\n",
      "For iter  650\n",
      "Accuracy  0.9453125\n",
      "Loss  0.19248167\n",
      "__________________\n",
      "For iter  660\n",
      "Accuracy  0.96875\n",
      "Loss  0.09434137\n",
      "__________________\n",
      "For iter  670\n",
      "Accuracy  0.953125\n",
      "Loss  0.19775744\n",
      "__________________\n",
      "For iter  680\n",
      "Accuracy  0.96875\n",
      "Loss  0.0716932\n",
      "__________________\n",
      "For iter  690\n",
      "Accuracy  0.96875\n",
      "Loss  0.10045908\n",
      "__________________\n",
      "For iter  700\n",
      "Accuracy  0.984375\n",
      "Loss  0.06780551\n",
      "__________________\n",
      "For iter  710\n",
      "Accuracy  0.9765625\n",
      "Loss  0.06532169\n",
      "__________________\n",
      "For iter  720\n",
      "Accuracy  0.9765625\n",
      "Loss  0.0796931\n",
      "__________________\n",
      "For iter  730\n",
      "Accuracy  0.96875\n",
      "Loss  0.10930681\n",
      "__________________\n",
      "For iter  740\n",
      "Accuracy  0.96875\n",
      "Loss  0.11033507\n",
      "__________________\n",
      "For iter  750\n",
      "Accuracy  0.9609375\n",
      "Loss  0.10848352\n",
      "__________________\n",
      "For iter  760\n",
      "Accuracy  1.0\n",
      "Loss  0.029549446\n",
      "__________________\n",
      "For iter  770\n",
      "Accuracy  0.984375\n",
      "Loss  0.08403161\n",
      "__________________\n",
      "For iter  780\n",
      "Accuracy  0.9921875\n",
      "Loss  0.07271716\n",
      "__________________\n",
      "For iter  790\n",
      "Accuracy  0.953125\n",
      "Loss  0.16942993\n",
      "__________________\n",
      "Testing Accuracy: 0.984375\n"
     ]
    }
   ],
   "source": [
    "#initialize variables\n",
    "init=tf.global_variables_initializer()\n",
    "with tf.Session() as sess:\n",
    "    sess.run(init)\n",
    "    iter=1\n",
    "    while iter<800:\n",
    "        batch_x,batch_y=mnist.train.next_batch(batch_size=batch_size)\n",
    "\n",
    "        batch_x=batch_x.reshape((batch_size,time_steps,n_input))\n",
    "\n",
    "        sess.run(opt, feed_dict={x: batch_x, y: batch_y})\n",
    "\n",
    "        if iter %10==0:\n",
    "            acc=sess.run(accuracy,feed_dict={x:batch_x,y:batch_y})\n",
    "            los=sess.run(loss,feed_dict={x:batch_x,y:batch_y})\n",
    "            print(\"For iter \",iter)\n",
    "            print(\"Accuracy \",acc)\n",
    "            print(\"Loss \",los)\n",
    "            print(\"__________________\")\n",
    "\n",
    "        iter=iter+1\n",
    "    \n",
    "    #calculating test accuracy\n",
    "    test_data = mnist.test.images[:128].reshape((-1, time_steps, n_input))\n",
    "    test_label = mnist.test.labels[:128]\n",
    "    print(\"Testing Accuracy:\", sess.run(accuracy, feed_dict={x: test_data, y: test_label}))"
   ]
  },
  {
   "cell_type": "code",
   "execution_count": 8,
   "metadata": {
    "collapsed": true
   },
   "outputs": [],
   "source": [
    "batch_x,batch_y=mnist.train.next_batch(batch_size=batch_size)"
   ]
  },
  {
   "cell_type": "code",
   "execution_count": 9,
   "metadata": {},
   "outputs": [
    {
     "data": {
      "text/plain": [
       "(128, 784)"
      ]
     },
     "execution_count": 9,
     "metadata": {},
     "output_type": "execute_result"
    }
   ],
   "source": [
    "batch_x.shape"
   ]
  },
  {
   "cell_type": "code",
   "execution_count": 10,
   "metadata": {},
   "outputs": [
    {
     "data": {
      "text/plain": [
       "(128, 10)"
      ]
     },
     "execution_count": 10,
     "metadata": {},
     "output_type": "execute_result"
    }
   ],
   "source": [
    "batch_y.shape"
   ]
  },
  {
   "cell_type": "code",
   "execution_count": 11,
   "metadata": {
    "collapsed": true
   },
   "outputs": [],
   "source": [
    "batch_x=batch_x.reshape((batch_size,time_steps,n_input))"
   ]
  },
  {
   "cell_type": "code",
   "execution_count": 12,
   "metadata": {},
   "outputs": [
    {
     "data": {
      "text/plain": [
       "(128, 28, 28)"
      ]
     },
     "execution_count": 12,
     "metadata": {},
     "output_type": "execute_result"
    }
   ],
   "source": [
    "batch_x.shape"
   ]
  },
  {
   "cell_type": "code",
   "execution_count": null,
   "metadata": {
    "collapsed": true
   },
   "outputs": [],
   "source": []
  }
 ],
 "metadata": {
  "kernelspec": {
   "display_name": "Python 3",
   "language": "python",
   "name": "python3"
  },
  "language_info": {
   "codemirror_mode": {
    "name": "ipython",
    "version": 3
   },
   "file_extension": ".py",
   "mimetype": "text/x-python",
   "name": "python",
   "nbconvert_exporter": "python",
   "pygments_lexer": "ipython3",
   "version": "3.6.3"
  }
 },
 "nbformat": 4,
 "nbformat_minor": 2
}
