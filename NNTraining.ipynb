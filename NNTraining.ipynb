{
 "cells": [
  {
   "cell_type": "markdown",
   "metadata": {},
   "source": [
    "# LSTM Training"
   ]
  },
  {
   "cell_type": "code",
   "execution_count": 1,
   "metadata": {
    "collapsed": true
   },
   "outputs": [],
   "source": [
    "import tensorflow as tf\n",
    "from tensorflow.contrib import rnn"
   ]
  },
  {
   "cell_type": "code",
   "execution_count": 2,
   "metadata": {
    "collapsed": true
   },
   "outputs": [],
   "source": [
    "import pandas as pd\n",
    "import numpy as np\n",
    "import itertools\n",
    "import os\n",
    "import random"
   ]
  },
  {
   "cell_type": "code",
   "execution_count": 3,
   "metadata": {
    "collapsed": true
   },
   "outputs": [],
   "source": [
    "# read finished Data; case training\n",
    "def readData(src, noConfFlag=True):\n",
    "    dataseries = []\n",
    "    for i in itertools.count():\n",
    "        try:\n",
    "            #print(i)\n",
    "            dataseries.append(np.array(pd.read_json(src+ '/'+os.path.basename(src[:-4])+'_'+str(i).zfill(12)+'_keypoints.json').iloc[0,0]['pose_keypoints_2d']))\n",
    "            if noConfFlag:\n",
    "                dataseries[-1] = np.append(dataseries[-1][:2],np.delete(dataseries[-1][2:], slice(None, None, 3)))\n",
    "        except ValueError:\n",
    "            break\n",
    "        except IndexError:\n",
    "            if noConfFlag:\n",
    "                dataseries.append(np.zeros(25*2))\n",
    "            else:\n",
    "                dataseries.append(np.zeros(25*3))\n",
    "    return dataseries,i"
   ]
  },
  {
   "cell_type": "code",
   "execution_count": 4,
   "metadata": {},
   "outputs": [
    {
     "name": "stdout",
     "output_type": "stream",
     "text": [
      ".............................................data loaded.\n",
      "min Length:  75\n"
     ]
    }
   ],
   "source": [
    "labelNames=['rennen','gehen']\n",
    "dataPaths=['data/output/rennen/','data/output/gehen/']\n",
    "samplePaths=[]\n",
    "data=[]\n",
    "labels=[]\n",
    "#collect paths to data\n",
    "dirs0 = os.listdir(dataPaths[0])\n",
    "for p in dirs0:\n",
    "    samplePaths.append(dataPaths[0]+p+'0')\n",
    "dirs1 = os.listdir(dataPaths[1])\n",
    "for p in dirs1:\n",
    "    samplePaths.append(dataPaths[1]+p+'1')\n",
    "\n",
    "#shuffel data\n",
    "random.shuffle(samplePaths)\n",
    "#print(samplePaths)\n",
    "minLength = 75\n",
    "for smp in samplePaths:\n",
    "    l = smp[-1:]\n",
    "    smp = smp[:-1]\n",
    "    td, i = readData(smp)\n",
    "    #if i<minLength:\n",
    "    #    minLength = i\n",
    "    data.append(td[10:60])\n",
    "    if l == '0':\n",
    "        labels.append(np.array([1,0]))\n",
    "    elif l == '1':\n",
    "        labels.append(np.array([0,1]))\n",
    "    else:\n",
    "        #labels.append(np.array([0,0]))\n",
    "        print(\"can't load: \",smp)\n",
    "    print('.', end=\"\")\n",
    "        \n",
    "print(\"data loaded.\")\n",
    "print(\"min Length: \", minLength)"
   ]
  },
  {
   "cell_type": "code",
   "execution_count": 5,
   "metadata": {
    "collapsed": true
   },
   "outputs": [],
   "source": [
    "#data"
   ]
  },
  {
   "cell_type": "code",
   "execution_count": 6,
   "metadata": {
    "collapsed": true
   },
   "outputs": [],
   "source": [
    "#define constants\n",
    "\n",
    "time_steps=50\n",
    "#hidden LSTM units\n",
    "num_units=128\n",
    "# 25*3=75; 25*2=50\n",
    "n_input=50\n",
    "#learning rate for adam\n",
    "learning_rate=0.001\n",
    "\n",
    "n_classes=2\n",
    "#size of batch\n",
    "batch_size=5"
   ]
  },
  {
   "cell_type": "code",
   "execution_count": null,
   "metadata": {
    "collapsed": true
   },
   "outputs": [],
   "source": []
  },
  {
   "cell_type": "code",
   "execution_count": 7,
   "metadata": {
    "collapsed": true
   },
   "outputs": [],
   "source": [
    "#shape for LSTM\n",
    "unscaledData = np.concatenate(data, axis=0).reshape((-1,time_steps*50))\n",
    "l = np.concatenate(labels, axis=0).reshape((-1,2))"
   ]
  },
  {
   "cell_type": "code",
   "execution_count": 8,
   "metadata": {
    "scrolled": true
   },
   "outputs": [
    {
     "name": "stdout",
     "output_type": "stream",
     "text": [
      "(45, 2500) (45, 2)\n",
      "[[  0.        0.        0.      ... 415.559   371.169   403.815  ]\n",
      " [602.175   227.589   621.765   ... 394.689   444.298   394.687  ]\n",
      " [351.582   264.146   350.272   ... 402.552   226.337   403.792  ]\n",
      " ...\n",
      " [  0.        0.        0.      ... 385.541   420.788   389.405  ]\n",
      " [569.512   231.539   587.797   ... 403.814   397.265   399.905  ]\n",
      " [ 16.2191  256.387     3.73451 ... 415.542   277.236   412.991  ]]\n",
      "[[1 0]\n",
      " [0 1]\n",
      " [0 1]\n",
      " [0 1]\n",
      " [0 1]\n",
      " [0 1]\n",
      " [0 1]\n",
      " [0 1]\n",
      " [0 1]\n",
      " [0 1]\n",
      " [1 0]\n",
      " [0 1]\n",
      " [0 1]\n",
      " [0 1]\n",
      " [0 1]\n",
      " [0 1]\n",
      " [0 1]\n",
      " [0 1]\n",
      " [0 1]\n",
      " [0 1]\n",
      " [0 1]\n",
      " [0 1]\n",
      " [0 1]\n",
      " [0 1]\n",
      " [0 1]\n",
      " [0 1]\n",
      " [0 1]\n",
      " [0 1]\n",
      " [0 1]\n",
      " [0 1]\n",
      " [0 1]\n",
      " [0 1]\n",
      " [1 0]\n",
      " [1 0]\n",
      " [0 1]\n",
      " [0 1]\n",
      " [1 0]\n",
      " [0 1]\n",
      " [0 1]\n",
      " [0 1]\n",
      " [0 1]\n",
      " [1 0]\n",
      " [1 0]\n",
      " [0 1]\n",
      " [0 1]]\n"
     ]
    }
   ],
   "source": [
    "print(unscaledData.shape,l.shape)\n",
    "print(unscaledData)\n",
    "print(l)"
   ]
  },
  {
   "cell_type": "markdown",
   "metadata": {},
   "source": [
    "### TODO:\n",
    "- Normalize/Standardize data"
   ]
  },
  {
   "cell_type": "code",
   "execution_count": 10,
   "metadata": {},
   "outputs": [
    {
     "name": "stdout",
     "output_type": "stream",
     "text": [
      "3.08494 727.385\n",
      "-0.004259201635300154 1.0\n"
     ]
    }
   ],
   "source": [
    "#naiv standardize\n",
    "minval = np.min(unscaledData[np.nonzero(unscaledData)])\n",
    "maxval = np.max(unscaledData[np.nonzero(unscaledData)])\n",
    "print(minval,maxval)\n",
    "d = (unscaledData-minval)/(maxval-minval)\n",
    "minval = np.min(d[np.nonzero(d)])\n",
    "maxval = np.max(d[np.nonzero(d)])\n",
    "print(minval,maxval)"
   ]
  },
  {
   "cell_type": "code",
   "execution_count": 11,
   "metadata": {
    "collapsed": true
   },
   "outputs": [],
   "source": [
    "#split data in train and testset\n",
    "trainSize=30 \n",
    "\n",
    "train_data = d[:trainSize,:]\n",
    "train_labels = l[:trainSize,:]\n",
    "test_data = d[trainSize:,:]\n",
    "test_labels = l[trainSize:,:]"
   ]
  },
  {
   "cell_type": "code",
   "execution_count": 12,
   "metadata": {},
   "outputs": [
    {
     "data": {
      "text/plain": [
       "((15, 2500), (15, 2))"
      ]
     },
     "execution_count": 12,
     "metadata": {},
     "output_type": "execute_result"
    }
   ],
   "source": [
    "test_data.shape, test_labels.shape"
   ]
  },
  {
   "cell_type": "code",
   "execution_count": 13,
   "metadata": {},
   "outputs": [
    {
     "data": {
      "text/plain": [
       "((30, 2500), (30, 2))"
      ]
     },
     "execution_count": 13,
     "metadata": {},
     "output_type": "execute_result"
    }
   ],
   "source": [
    "train_data.shape, train_labels.shape"
   ]
  },
  {
   "cell_type": "code",
   "execution_count": null,
   "metadata": {
    "collapsed": true
   },
   "outputs": [],
   "source": []
  },
  {
   "cell_type": "code",
   "execution_count": 14,
   "metadata": {
    "collapsed": true
   },
   "outputs": [],
   "source": [
    "#weights and biases of appropriate shape to accomplish above task\n",
    "out_weights=tf.Variable(tf.random_normal([num_units,n_classes]))\n",
    "out_bias=tf.Variable(tf.random_normal([n_classes]))\n",
    "\n",
    "#defining placeholders\n",
    "#input image placeholder\n",
    "x=tf.placeholder(\"float\",[None,time_steps,n_input])\n",
    "#input label placeholder\n",
    "y=tf.placeholder(\"float\",[None,n_classes])"
   ]
  },
  {
   "cell_type": "code",
   "execution_count": 15,
   "metadata": {
    "collapsed": true
   },
   "outputs": [],
   "source": [
    "#processing the input tensor from [batch_size,n_steps,n_input] to \"time_steps\" number of [batch_size,n_input] tensors\n",
    "input=tf.unstack(x ,time_steps,1)"
   ]
  },
  {
   "cell_type": "code",
   "execution_count": 16,
   "metadata": {
    "collapsed": true
   },
   "outputs": [],
   "source": [
    "#defining the network\n",
    "lstm_layer=tf.nn.rnn_cell.LSTMCell(num_units,forget_bias=1)\n",
    "outputs,_=rnn.static_rnn(lstm_layer,input,dtype=\"float32\")"
   ]
  },
  {
   "cell_type": "code",
   "execution_count": 17,
   "metadata": {
    "collapsed": true
   },
   "outputs": [],
   "source": [
    "#converting last output of dimension [batch_size,num_units] to [batch_size,n_classes] by out_weight multiplication\n",
    "prediction=tf.matmul(outputs[-1],out_weights)+out_bias"
   ]
  },
  {
   "cell_type": "code",
   "execution_count": 18,
   "metadata": {
    "collapsed": true
   },
   "outputs": [],
   "source": [
    "#loss_function\n",
    "loss=tf.reduce_mean(tf.nn.softmax_cross_entropy_with_logits_v2(logits=prediction,labels=y))\n",
    "#optimization\n",
    "opt=tf.train.AdamOptimizer(learning_rate=learning_rate).minimize(loss)\n",
    "\n",
    "#model evaluation\n",
    "correct_prediction=tf.equal(tf.argmax(prediction,1),tf.argmax(y,1))\n",
    "accuracy=tf.reduce_mean(tf.cast(correct_prediction,tf.float32))"
   ]
  },
  {
   "cell_type": "code",
   "execution_count": 19,
   "metadata": {},
   "outputs": [
    {
     "name": "stdout",
     "output_type": "stream",
     "text": [
      "0\n",
      "1\n",
      "2\n",
      "3\n",
      "4\n",
      "5\n",
      "For iter  5\n",
      "Accuracy  1.0\n",
      "Loss  8.0363614e-05\n",
      "__________________\n",
      "Testing Accuracy: 0.6\n"
     ]
    }
   ],
   "source": [
    "#initialize variables\n",
    "init=tf.global_variables_initializer()\n",
    "with tf.Session() as sess:\n",
    "    sess.run(init)\n",
    "    iter=0\n",
    "    while iter<trainSize//batch_size:\n",
    "        print(iter)\n",
    "        batch_x=train_data[batch_size*iter:batch_size*(iter+1)]\n",
    "        \n",
    "        batch_y=train_labels[batch_size*iter:batch_size*(iter+1)]\n",
    "        #print(batch_x)\n",
    "        batch_x=batch_x.reshape((batch_size,time_steps,n_input))\n",
    "\n",
    "        sess.run(opt, feed_dict={x: batch_x, y: batch_y})\n",
    "\n",
    "        if iter%5==0 and iter!=0:\n",
    "            acc=sess.run(accuracy,feed_dict={x:batch_x,y:batch_y})\n",
    "            los=sess.run(loss,feed_dict={x:batch_x,y:batch_y})\n",
    "            print(\"For iter \",iter)\n",
    "            print(\"Accuracy \",acc)\n",
    "            print(\"Loss \",los)\n",
    "            print(\"__________________\")\n",
    "\n",
    "        iter=iter+1\n",
    "\n",
    "    #calculating test accuracy\n",
    "    test_data = test_data[:batch_size].reshape((-1, time_steps, n_input))\n",
    "    test_label = test_labels[:batch_size]\n",
    "    print(\"Testing Accuracy:\", sess.run(accuracy, feed_dict={x: test_data, y: test_label}))"
   ]
  },
  {
   "cell_type": "code",
   "execution_count": 20,
   "metadata": {
    "collapsed": true
   },
   "outputs": [],
   "source": [
    "sess.close()"
   ]
  },
  {
   "cell_type": "markdown",
   "metadata": {
    "collapsed": true
   },
   "source": [
    "# Visualisation"
   ]
  },
  {
   "cell_type": "code",
   "execution_count": 21,
   "metadata": {},
   "outputs": [],
   "source": [
    "\n",
    "show_data = unscaledData.reshape(-1,n_input)\n",
    "show_label = [np.where(r==1)[0][0] for r in l]"
   ]
  },
  {
   "cell_type": "code",
   "execution_count": 22,
   "metadata": {
    "collapsed": true
   },
   "outputs": [],
   "source": [
    "#show_label"
   ]
  },
  {
   "cell_type": "code",
   "execution_count": 23,
   "metadata": {},
   "outputs": [
    {
     "data": {
      "text/plain": [
       "(2250, 50)"
      ]
     },
     "execution_count": 23,
     "metadata": {},
     "output_type": "execute_result"
    }
   ],
   "source": [
    "show_data.shape"
   ]
  },
  {
   "cell_type": "code",
   "execution_count": 24,
   "metadata": {},
   "outputs": [
    {
     "data": {
      "text/plain": [
       "0.0"
      ]
     },
     "execution_count": 24,
     "metadata": {},
     "output_type": "execute_result"
    }
   ],
   "source": [
    "testing = show_data[1]\n",
    "testing[1]"
   ]
  },
  {
   "cell_type": "code",
   "execution_count": 33,
   "metadata": {
    "collapsed": true
   },
   "outputs": [],
   "source": [
    "pairs = [\n",
    "        (1,8),(1,2),(1,5),(2,3),(3,4),   \n",
    "        (5,6),(6,7),(8,9),(9,10),(10,11),\n",
    "        (8,12),(12,13),(13,14),(1,0),(0,15), \n",
    "        (15,17),(0,16),(16,18),\n",
    "        (14,19),(19,20),(14,21),(11,22),(22,23),\n",
    "        (11,24)\n",
    "        ]"
   ]
  },
  {
   "cell_type": "code",
   "execution_count": 34,
   "metadata": {},
   "outputs": [
    {
     "data": {
      "text/plain": [
       "8"
      ]
     },
     "execution_count": 34,
     "metadata": {},
     "output_type": "execute_result"
    }
   ],
   "source": [
    "pairs[0][1]"
   ]
  },
  {
   "cell_type": "code",
   "execution_count": 39,
   "metadata": {},
   "outputs": [
    {
     "name": "stdout",
     "output_type": "stream",
     "text": [
      "This game was played for 356.49 seconds\n"
     ]
    }
   ],
   "source": [
    "import pygame\n",
    "import sys, traceback\n",
    "\n",
    "# Initialize Pygame.\n",
    "pygame.init()\n",
    "# Set size of pygame window.\n",
    "screen=pygame.display.set_mode((900,750))\n",
    "# Create empty pygame surface.\n",
    "background = pygame.Surface(screen.get_size())\n",
    "# Fill the background white color.\n",
    "background.fill((255, 255, 255))\n",
    "# Convert Surface object to make blitting faster.\n",
    "background = background.convert()\n",
    "# Copy background to screen (position (0, 0) is upper left corner).\n",
    "screen.blit(background, (0,0))\n",
    "# Create Pygame clock object.\n",
    "clock = pygame.time.Clock()\n",
    "\n",
    "mainloop = True\n",
    "# Desired framerate in frames per second. Try out other values.\n",
    "FPS = 30\n",
    "# How many seconds the \"game\" is played.\n",
    "playtime = 0.0\n",
    "\n",
    "count = 0.0\n",
    "\n",
    "speed = 1\n",
    "\n",
    "try:\n",
    "    \n",
    "    while mainloop:\n",
    "        # Do not go faster than this framerate.\n",
    "        milliseconds = clock.tick(FPS*speed)\n",
    "        playtime += milliseconds / 1000.0\n",
    "\n",
    "        for event in pygame.event.get():\n",
    "            # User presses QUIT-button.\n",
    "            if event.type == pygame.QUIT:\n",
    "                mainloop = False\n",
    "            elif event.type == pygame.KEYDOWN:\n",
    "                # User presses ESCAPE-Key\n",
    "                if event.key == pygame.K_ESCAPE:\n",
    "                    mainloop = False\n",
    "\n",
    "        # Print framerate and playtime in titlebar.\n",
    "        currentSample=int(count/n_input)%len(show_label)\n",
    "        text = \"FPS: {0:.2f}   Playtime: {1:.2f}  NR: {2:d}  Label: \".format(clock.get_fps(), playtime, currentSample+1)\n",
    "        text += labelNames[show_label[currentSample]]\n",
    "        pygame.display.set_caption(text)\n",
    "        background.fill((255, 255, 255))\n",
    "        f = show_data[int(count)%(show_data.shape[0])]\n",
    "        \n",
    "        for p in pairs:\n",
    "            x1=int(f[p[0]*2])\n",
    "            y1=int(f[p[0]*2+1])\n",
    "            x2=int(f[p[1]*2])\n",
    "            y2=int(f[p[1]*2+1])\n",
    "            if not (x1 == 0 or x2 == 0 or y1 == 0 or y2 == 0):\n",
    "                pygame.draw.line(background, (0, 0, 0), [x1,y1], [x2,y2], 1)\n",
    "        for i in range(0,f.shape[0],2):#2 for no conf\n",
    "            #confColor = 255 - int(255*f[i+2])%255\n",
    "            #pygame.draw.rect(background, (confColor, confColor, confColor), (int(f[i]),int(f[i+1]),4,4)) #bw\n",
    "            #pygame.draw.rect(background, (confColor, 0, 255-confColor), (int(f[i]),int(f[i+1]),4,4)) #rb\n",
    "            if i!=25:\n",
    "                pygame.draw.rect(background, (0, 0, 0), (int(f[i]),int(f[i+1]),4,4)) #no Conf\n",
    "            else:\n",
    "                pygame.draw.rect(background, (255, 0, 0), (int(f[i]),int(f[i+1]),4,4)) #no Conf\n",
    "        screen.blit(background, (300-f[8*2],300-f[8*2+1]))#2 for no conf\n",
    "        #screen.blit(background, (0,0))\n",
    "        #Update Pygame display.\n",
    "        pygame.display.update()\n",
    "\n",
    "        count += 1\n",
    "except TypeError:\n",
    "    print(\"Type error: \", count,\" \", i)\n",
    "    traceback.print_exc(file=sys.stdout)\n",
    "except:\n",
    "    traceback.print_exc(file=sys.stdout)\n",
    "else:\n",
    "    pygame.quit()\n",
    "# Finish Pygame.\n",
    "pygame.quit()\n",
    "\n",
    "# At the very last:\n",
    "print(\"This game was played for {0:.2f} seconds\".format(playtime))"
   ]
  },
  {
   "cell_type": "code",
   "execution_count": null,
   "metadata": {
    "collapsed": true
   },
   "outputs": [],
   "source": []
  },
  {
   "cell_type": "markdown",
   "metadata": {
    "collapsed": true
   },
   "source": [
    "# Live Data-read"
   ]
  },
  {
   "cell_type": "code",
   "execution_count": 25,
   "metadata": {
    "collapsed": true
   },
   "outputs": [],
   "source": [
    "import sys\n",
    "import time\n",
    "import logging\n",
    "from watchdog.observers import Observer\n",
    "from watchdog.events import LoggingEventHandler\n",
    "from watchdog.events import PatternMatchingEventHandler  "
   ]
  },
  {
   "cell_type": "code",
   "execution_count": 26,
   "metadata": {
    "collapsed": true
   },
   "outputs": [],
   "source": [
    "class MyHandler(PatternMatchingEventHandler):\n",
    "    patterns = [\"*.json\"]\n",
    "    data = []\n",
    "\n",
    "    def process(self, event):\n",
    "        \"\"\"\n",
    "        event.event_type \n",
    "            'modified' | 'created' | 'moved' | 'deleted'\n",
    "        event.is_directory\n",
    "            True | False\n",
    "        event.src_path\n",
    "            path/to/observed/file\n",
    "        \"\"\"\n",
    "        # the file will be processed there\n",
    "        try:\n",
    "            #print(i)\n",
    "            f = pd.read_json(event.src_path).iloc[0,0]['pose_keypoints_2d']\n",
    "            self.data.append(f)\n",
    "            print(f)\n",
    "        except ValueError:\n",
    "            print(\"ERROR reading: \",event.src_path, event.event_type)\n",
    "\n",
    "\n",
    "    def on_created(self, event):\n",
    "        self.process(event)\n",
    "        \n",
    "observer = Observer()\n",
    "observer.schedule(MyHandler(), '.')\n",
    "observer.start()\n",
    "\n",
    "try:\n",
    "    while True:\n",
    "        time.sleep(1)\n",
    "except KeyboardInterrupt:\n",
    "    observer.stop()\n",
    "observer.join()"
   ]
  },
  {
   "cell_type": "code",
   "execution_count": null,
   "metadata": {
    "collapsed": true
   },
   "outputs": [],
   "source": []
  }
 ],
 "metadata": {
  "kernelspec": {
   "display_name": "Python 3",
   "language": "python",
   "name": "python3"
  },
  "language_info": {
   "codemirror_mode": {
    "name": "ipython",
    "version": 3
   },
   "file_extension": ".py",
   "mimetype": "text/x-python",
   "name": "python",
   "nbconvert_exporter": "python",
   "pygments_lexer": "ipython3",
   "version": "3.6.3"
  }
 },
 "nbformat": 4,
 "nbformat_minor": 2
}
