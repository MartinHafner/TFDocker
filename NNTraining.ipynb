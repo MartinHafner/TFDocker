{
 "cells": [
  {
   "cell_type": "markdown",
   "metadata": {},
   "source": [
    "# LSTM Training"
   ]
  },
  {
   "cell_type": "code",
   "execution_count": 1,
   "metadata": {
    "collapsed": true
   },
   "outputs": [],
   "source": [
    "import tensorflow as tf\n",
    "from tensorflow.contrib import rnn"
   ]
  },
  {
   "cell_type": "code",
   "execution_count": 2,
   "metadata": {
    "collapsed": true
   },
   "outputs": [],
   "source": [
    "import pandas as pd\n",
    "import numpy as np\n",
    "import itertools\n",
    "import os\n",
    "import random"
   ]
  },
  {
   "cell_type": "code",
   "execution_count": 3,
   "metadata": {
    "collapsed": true
   },
   "outputs": [],
   "source": [
    "# read finished Data; case training\n",
    "def readData(src):\n",
    "    dataseries = []\n",
    "    for i in itertools.count():\n",
    "        try:\n",
    "            #print(i)\n",
    "            dataseries.append(np.array(pd.read_json(src+ '/'+os.path.basename(src[:-4])+'_'+str(i).zfill(12)+'_keypoints.json').iloc[0,0]['pose_keypoints_2d']))\n",
    "        except ValueError:\n",
    "            break\n",
    "        except IndexError:\n",
    "            dataseries.append(np.zeros(25*3))\n",
    "    return dataseries,i"
   ]
  },
  {
   "cell_type": "code",
   "execution_count": 4,
   "metadata": {},
   "outputs": [
    {
     "name": "stdout",
     "output_type": "stream",
     "text": [
      ".............................................data loaded.\n",
      "min Length:  75\n"
     ]
    }
   ],
   "source": [
    "labelNames=['rennen','laufen']\n",
    "dataPaths=['data/output/rennen/','data/output/laufen/']\n",
    "samplePaths=[]\n",
    "data=[]\n",
    "labels=[]\n",
    "\n",
    "dirs0 = os.listdir(dataPaths[0])\n",
    "for p in dirs0:\n",
    "    samplePaths.append(dataPaths[0]+p+'0')\n",
    "dirs1 = os.listdir(dataPaths[1])\n",
    "for p in dirs1:\n",
    "    samplePaths.append(dataPaths[1]+p+'1')\n",
    "\n",
    "\n",
    "random.shuffle(samplePaths)\n",
    "#print(samplePaths)\n",
    "minLength = 75\n",
    "for smp in samplePaths:\n",
    "    l = smp[-1:]\n",
    "    smp = smp[:-1]\n",
    "    td, i = readData(smp)\n",
    "    #if i<minLength:\n",
    "    #    minLength = i\n",
    "    data.append(td[:minLength])\n",
    "    if l == '0':\n",
    "        labels.append(np.array([1,0]))\n",
    "    elif l == '1':\n",
    "        labels.append(np.array([0,1]))\n",
    "    else:\n",
    "        #labels.append(np.array([0,0]))\n",
    "        print(\"can't load: \",smp)\n",
    "    print('.', end=\"\")\n",
    "        \n",
    "print(\"data loaded.\")\n",
    "print(\"min Length: \", minLength)"
   ]
  },
  {
   "cell_type": "code",
   "execution_count": 5,
   "metadata": {
    "collapsed": true
   },
   "outputs": [],
   "source": [
    "#minLength"
   ]
  },
  {
   "cell_type": "code",
   "execution_count": 6,
   "metadata": {
    "collapsed": true
   },
   "outputs": [],
   "source": [
    "#define constants\n",
    "\n",
    "time_steps=minLength\n",
    "#hidden LSTM units\n",
    "num_units=128\n",
    "# 25*3=75; 25*2=50\n",
    "n_input=75\n",
    "#learning rate for adam\n",
    "learning_rate=0.001\n",
    "\n",
    "n_classes=2\n",
    "#size of batch\n",
    "batch_size=1"
   ]
  },
  {
   "cell_type": "code",
   "execution_count": 7,
   "metadata": {
    "collapsed": true
   },
   "outputs": [],
   "source": [
    "d = np.concatenate(data, axis=0).reshape((-1,time_steps*75))\n",
    "l = np.concatenate(labels, axis=0).reshape((-1,2))"
   ]
  },
  {
   "cell_type": "code",
   "execution_count": 8,
   "metadata": {
    "scrolled": true
   },
   "outputs": [
    {
     "name": "stdout",
     "output_type": "stream",
     "text": [
      "(45, 5625) (45, 2)\n",
      "[[6.20267e+02 1.63590e+02 8.95306e-01 ... 1.14016e+02 4.23289e+02\n",
      "  7.62022e-01]\n",
      " [0.00000e+00 0.00000e+00 0.00000e+00 ... 4.84685e+02 4.02556e+02\n",
      "  3.66563e-01]\n",
      " [0.00000e+00 0.00000e+00 0.00000e+00 ... 1.72753e+02 3.90736e+02\n",
      "  8.11601e-01]\n",
      " ...\n",
      " [3.74695e+00 2.38051e+02 3.28673e-01 ... 3.09853e+02 4.11574e+02\n",
      "  7.55411e-01]\n",
      " [0.00000e+00 0.00000e+00 0.00000e+00 ... 4.84759e+02 3.90726e+02\n",
      "  7.22731e-01]\n",
      " [0.00000e+00 0.00000e+00 0.00000e+00 ... 6.70861e+01 4.32371e+02\n",
      "  8.27393e-01]]\n",
      "[[0 1]\n",
      " [0 1]\n",
      " [0 1]\n",
      " [0 1]\n",
      " [0 1]\n",
      " [1 0]\n",
      " [0 1]\n",
      " [0 1]\n",
      " [0 1]\n",
      " [0 1]\n",
      " [1 0]\n",
      " [0 1]\n",
      " [0 1]\n",
      " [0 1]\n",
      " [0 1]\n",
      " [0 1]\n",
      " [1 0]\n",
      " [0 1]\n",
      " [0 1]\n",
      " [0 1]\n",
      " [0 1]\n",
      " [1 0]\n",
      " [0 1]\n",
      " [1 0]\n",
      " [0 1]\n",
      " [0 1]\n",
      " [1 0]\n",
      " [0 1]\n",
      " [0 1]\n",
      " [0 1]\n",
      " [0 1]\n",
      " [0 1]\n",
      " [1 0]\n",
      " [0 1]\n",
      " [0 1]\n",
      " [0 1]\n",
      " [0 1]\n",
      " [0 1]\n",
      " [0 1]\n",
      " [0 1]\n",
      " [0 1]\n",
      " [0 1]\n",
      " [0 1]\n",
      " [0 1]\n",
      " [0 1]]\n"
     ]
    }
   ],
   "source": [
    "print(d.shape,l.shape)\n",
    "print(d)\n",
    "print(l)"
   ]
  },
  {
   "cell_type": "markdown",
   "metadata": {},
   "source": [
    "### TODO:\n",
    "- remove confidence\n",
    "- Normalize/Standerdize"
   ]
  },
  {
   "cell_type": "code",
   "execution_count": 9,
   "metadata": {
    "collapsed": true
   },
   "outputs": [],
   "source": [
    "testSize=10 \n",
    "test_data = d[:testSize,:]\n",
    "test_labels = l[:testSize,:]\n",
    "train_data = d[testSize:,:]\n",
    "train_labels = l[testSize:,:]"
   ]
  },
  {
   "cell_type": "code",
   "execution_count": 10,
   "metadata": {},
   "outputs": [
    {
     "data": {
      "text/plain": [
       "((10, 5625), (10, 2))"
      ]
     },
     "execution_count": 10,
     "metadata": {},
     "output_type": "execute_result"
    }
   ],
   "source": [
    "test_data.shape, test_labels.shape"
   ]
  },
  {
   "cell_type": "code",
   "execution_count": 11,
   "metadata": {},
   "outputs": [
    {
     "data": {
      "text/plain": [
       "((35, 5625), (35, 2))"
      ]
     },
     "execution_count": 11,
     "metadata": {},
     "output_type": "execute_result"
    }
   ],
   "source": [
    "train_data.shape, train_labels.shape"
   ]
  },
  {
   "cell_type": "code",
   "execution_count": null,
   "metadata": {
    "collapsed": true
   },
   "outputs": [],
   "source": []
  },
  {
   "cell_type": "code",
   "execution_count": 12,
   "metadata": {
    "collapsed": true
   },
   "outputs": [],
   "source": [
    "#weights and biases of appropriate shape to accomplish above task\n",
    "out_weights=tf.Variable(tf.random_normal([num_units,n_classes]))\n",
    "out_bias=tf.Variable(tf.random_normal([n_classes]))\n",
    "\n",
    "#defining placeholders\n",
    "#input image placeholder\n",
    "x=tf.placeholder(\"float\",[None,time_steps,n_input])\n",
    "#input label placeholder\n",
    "y=tf.placeholder(\"float\",[None,n_classes])"
   ]
  },
  {
   "cell_type": "code",
   "execution_count": 13,
   "metadata": {
    "collapsed": true
   },
   "outputs": [],
   "source": [
    "#processing the input tensor from [batch_size,n_steps,n_input] to \"time_steps\" number of [batch_size,n_input] tensors\n",
    "input=tf.unstack(x ,time_steps,1)"
   ]
  },
  {
   "cell_type": "code",
   "execution_count": 14,
   "metadata": {
    "collapsed": true
   },
   "outputs": [],
   "source": [
    "#defining the network\n",
    "lstm_layer=tf.nn.rnn_cell.LSTMCell(num_units,forget_bias=1)\n",
    "outputs,_=rnn.static_rnn(lstm_layer,input,dtype=\"float32\")"
   ]
  },
  {
   "cell_type": "code",
   "execution_count": 15,
   "metadata": {
    "collapsed": true
   },
   "outputs": [],
   "source": [
    "#converting last output of dimension [batch_size,num_units] to [batch_size,n_classes] by out_weight multiplication\n",
    "prediction=tf.matmul(outputs[-1],out_weights)+out_bias"
   ]
  },
  {
   "cell_type": "code",
   "execution_count": 16,
   "metadata": {
    "collapsed": true
   },
   "outputs": [],
   "source": [
    "#loss_function\n",
    "loss=tf.reduce_mean(tf.nn.softmax_cross_entropy_with_logits_v2(logits=prediction,labels=y))\n",
    "#optimization\n",
    "opt=tf.train.AdamOptimizer(learning_rate=learning_rate).minimize(loss)\n",
    "\n",
    "#model evaluation\n",
    "correct_prediction=tf.equal(tf.argmax(prediction,1),tf.argmax(y,1))\n",
    "accuracy=tf.reduce_mean(tf.cast(correct_prediction,tf.float32))"
   ]
  },
  {
   "cell_type": "code",
   "execution_count": 17,
   "metadata": {},
   "outputs": [
    {
     "name": "stdout",
     "output_type": "stream",
     "text": [
      "For iter  5\n",
      "Accuracy  1.0\n",
      "Loss  0.03886436\n",
      "__________________\n",
      "For iter  10\n",
      "Accuracy  1.0\n",
      "Loss  1.060957e-05\n",
      "__________________\n",
      "For iter  15\n",
      "Accuracy  1.0\n",
      "Loss  0.0017353727\n",
      "__________________\n",
      "For iter  20\n",
      "Accuracy  1.0\n",
      "Loss  0.0012401993\n",
      "__________________\n",
      "For iter  25\n",
      "Accuracy  1.0\n",
      "Loss  0.05737934\n",
      "__________________\n",
      "For iter  30\n",
      "Accuracy  1.0\n",
      "Loss  2.3841855e-07\n",
      "__________________\n",
      "Testing Accuracy: 1.0\n"
     ]
    }
   ],
   "source": [
    "#initialize variables\n",
    "init=tf.global_variables_initializer()\n",
    "with tf.Session() as sess:\n",
    "    sess.run(init)\n",
    "    iter=1\n",
    "    while iter<=30:\n",
    "        batch_x=train_data[batch_size*iter:batch_size*(iter+1)]\n",
    "\n",
    "        batch_y=train_labels[batch_size*iter:batch_size*(iter+1)]\n",
    "        #print(batch_x)\n",
    "        batch_x=batch_x.reshape((batch_size,time_steps,n_input))\n",
    "\n",
    "        sess.run(opt, feed_dict={x: batch_x, y: batch_y})\n",
    "\n",
    "        if iter %5==0:\n",
    "            acc=sess.run(accuracy,feed_dict={x:batch_x,y:batch_y})\n",
    "            los=sess.run(loss,feed_dict={x:batch_x,y:batch_y})\n",
    "            print(\"For iter \",iter)\n",
    "            print(\"Accuracy \",acc)\n",
    "            print(\"Loss \",los)\n",
    "            print(\"__________________\")\n",
    "\n",
    "        iter=iter+1\n",
    "\n",
    "    #calculating test accuracy\n",
    "    test_data = test_data[:batch_size].reshape((-1, time_steps, n_input))\n",
    "    test_label = test_labels[:batch_size]\n",
    "    print(\"Testing Accuracy:\", sess.run(accuracy, feed_dict={x: test_data, y: test_label}))"
   ]
  },
  {
   "cell_type": "code",
   "execution_count": 18,
   "metadata": {
    "collapsed": true
   },
   "outputs": [],
   "source": [
    "sess.close()"
   ]
  },
  {
   "cell_type": "markdown",
   "metadata": {
    "collapsed": true
   },
   "source": [
    "# Visualisation"
   ]
  },
  {
   "cell_type": "code",
   "execution_count": 19,
   "metadata": {
    "collapsed": true
   },
   "outputs": [],
   "source": [
    "show_data = d.reshape(-1,n_input)"
   ]
  },
  {
   "cell_type": "code",
   "execution_count": 20,
   "metadata": {},
   "outputs": [
    {
     "data": {
      "text/plain": [
       "3375"
      ]
     },
     "execution_count": 20,
     "metadata": {},
     "output_type": "execute_result"
    }
   ],
   "source": [
    "show_data.shape[0]"
   ]
  },
  {
   "cell_type": "code",
   "execution_count": 21,
   "metadata": {},
   "outputs": [
    {
     "data": {
      "text/plain": [
       "163.59"
      ]
     },
     "execution_count": 21,
     "metadata": {},
     "output_type": "execute_result"
    }
   ],
   "source": [
    "testing = show_data[1]\n",
    "testing[1]"
   ]
  },
  {
   "cell_type": "code",
   "execution_count": 23,
   "metadata": {},
   "outputs": [
    {
     "name": "stdout",
     "output_type": "stream",
     "text": [
      "This game was played for 17.37 seconds\n"
     ]
    }
   ],
   "source": [
    "import pygame\n",
    "\n",
    "# Initialize Pygame.\n",
    "pygame.init()\n",
    "# Set size of pygame window.\n",
    "screen=pygame.display.set_mode((640,480))\n",
    "# Create empty pygame surface.\n",
    "background = pygame.Surface(screen.get_size())\n",
    "# Fill the background white color.\n",
    "background.fill((255, 255, 255))\n",
    "# Convert Surface object to make blitting faster.\n",
    "background = background.convert()\n",
    "# Copy background to screen (position (0, 0) is upper left corner).\n",
    "screen.blit(background, (0,0))\n",
    "# Create Pygame clock object.\n",
    "clock = pygame.time.Clock()\n",
    "\n",
    "mainloop = True\n",
    "# Desired framerate in frames per second. Try out other values.\n",
    "FPS = 30\n",
    "# How many seconds the \"game\" is played.\n",
    "playtime = 0.0\n",
    "\n",
    "count = 0.0\n",
    "\n",
    "speed = 1\n",
    "\n",
    "try:\n",
    "    \n",
    "    while mainloop:\n",
    "        # Do not go faster than this framerate.\n",
    "        milliseconds = clock.tick(FPS*speed)\n",
    "        playtime += milliseconds / 1000.0\n",
    "\n",
    "        for event in pygame.event.get():\n",
    "            # User presses QUIT-button.\n",
    "            if event.type == pygame.QUIT:\n",
    "                mainloop = False\n",
    "            elif event.type == pygame.KEYDOWN:\n",
    "                # User presses ESCAPE-Key\n",
    "                if event.key == pygame.K_ESCAPE:\n",
    "                    mainloop = False\n",
    "\n",
    "        # Print framerate and playtime in titlebar.\n",
    "        text = \"FPS: {0:.2f}   Playtime: {1:.2f}\".format(clock.get_fps(), playtime)\n",
    "        pygame.display.set_caption(text)\n",
    "        background.fill((255, 255, 255))\n",
    "        f = show_data[int(count)%(show_data.shape[0])]\n",
    "        for i in range(0,f.shape[0],3):\n",
    "\n",
    "            confColor = 255 - int(255*f[i+2])%255\n",
    "            #pygame.draw.rect(background, (confColor, confColor, confColor), (int(f[i]),int(f[i+1]),4,4)) #bw\n",
    "            pygame.draw.rect(background, (confColor, 0, 255-confColor), (int(f[i]),int(f[i+1]),4,4)) #rb\n",
    "        screen.blit(background, (300-f[8*3],300-f[8*3+1]))\n",
    "        #Update Pygame display.\n",
    "        pygame.display.flip()\n",
    "\n",
    "        count += 1\n",
    "except TypeError:\n",
    "    print(\"Type error: check show_DATA\", count,\" \", i)\n",
    "except:\n",
    "    print(\"unknown error\")\n",
    "else:\n",
    "    pygame.quit()\n",
    "# Finish Pygame.\n",
    "pygame.quit()\n",
    "\n",
    "# At the very last:\n",
    "print(\"This game was played for {0:.2f} seconds\".format(playtime))"
   ]
  },
  {
   "cell_type": "markdown",
   "metadata": {
    "collapsed": true
   },
   "source": [
    "# Live Data-read"
   ]
  },
  {
   "cell_type": "code",
   "execution_count": 25,
   "metadata": {
    "collapsed": true
   },
   "outputs": [],
   "source": [
    "import sys\n",
    "import time\n",
    "import logging\n",
    "from watchdog.observers import Observer\n",
    "from watchdog.events import LoggingEventHandler\n",
    "from watchdog.events import PatternMatchingEventHandler  "
   ]
  },
  {
   "cell_type": "code",
   "execution_count": 26,
   "metadata": {},
   "outputs": [],
   "source": [
    "class MyHandler(PatternMatchingEventHandler):\n",
    "    patterns = [\"*.json\"]\n",
    "    data = []\n",
    "\n",
    "    def process(self, event):\n",
    "        \"\"\"\n",
    "        event.event_type \n",
    "            'modified' | 'created' | 'moved' | 'deleted'\n",
    "        event.is_directory\n",
    "            True | False\n",
    "        event.src_path\n",
    "            path/to/observed/file\n",
    "        \"\"\"\n",
    "        # the file will be processed there\n",
    "        try:\n",
    "            #print(i)\n",
    "            f = pd.read_json(event.src_path).iloc[0,0]['pose_keypoints_2d']\n",
    "            self.data.append(f)\n",
    "            print(f)\n",
    "        except ValueError:\n",
    "            print(\"ERROR reading: \",event.src_path, event.event_type)\n",
    "\n",
    "\n",
    "    def on_created(self, event):\n",
    "        self.process(event)\n",
    "        \n",
    "observer = Observer()\n",
    "observer.schedule(MyHandler(), '.')\n",
    "observer.start()\n",
    "\n",
    "try:\n",
    "    while True:\n",
    "        time.sleep(1)\n",
    "except KeyboardInterrupt:\n",
    "    observer.stop()\n",
    "observer.join()"
   ]
  },
  {
   "cell_type": "code",
   "execution_count": null,
   "metadata": {
    "collapsed": true
   },
   "outputs": [],
   "source": []
  }
 ],
 "metadata": {
  "kernelspec": {
   "display_name": "Python 3",
   "language": "python",
   "name": "python3"
  },
  "language_info": {
   "codemirror_mode": {
    "name": "ipython",
    "version": 3
   },
   "file_extension": ".py",
   "mimetype": "text/x-python",
   "name": "python",
   "nbconvert_exporter": "python",
   "pygments_lexer": "ipython3",
   "version": "3.6.3"
  }
 },
 "nbformat": 4,
 "nbformat_minor": 2
}
